{
 "cells": [
  {
   "cell_type": "code",
   "execution_count": 3,
   "id": "517a6bdc",
   "metadata": {},
   "outputs": [
    {
     "name": "stdout",
     "output_type": "stream",
     "text": [
      "Guess the number between 1 to 100: 12\n",
      "Guess Higher\n",
      "Guess Again: 70\n",
      "Guess Higher\n",
      "Guess Again: 80\n",
      "Guess Higher\n",
      "Guess Again: 90\n",
      "Guess Higher\n",
      "Guess Again: 95\n",
      "Guess Higher\n",
      "Guess Again: 98\n",
      "Correct Guess!\n",
      "You took 6 attempts\n"
     ]
    }
   ],
   "source": [
    "import random\n",
    "jackpot=random.randint(1,100)\n",
    "guess=int(input(\"Guess the number between 1 to 100: \"))\n",
    "counter=1\n",
    "while(guess!=jackpot):\n",
    "    if guess<jackpot:\n",
    "        print(\"Guess Higher\")\n",
    "    else:\n",
    "        print(\"Guess Lower\")\n",
    "    guess=int(input(\"Guess Again: \"))\n",
    "    counter+=1\n",
    "print(\"Correct Guess!\")\n",
    "print(\"You took\",counter,\"attempts\")"
   ]
  },
  {
   "cell_type": "code",
   "execution_count": null,
   "id": "16106993",
   "metadata": {},
   "outputs": [],
   "source": []
  }
 ],
 "metadata": {
  "kernelspec": {
   "display_name": "Python 3 (ipykernel)",
   "language": "python",
   "name": "python3"
  },
  "language_info": {
   "codemirror_mode": {
    "name": "ipython",
    "version": 3
   },
   "file_extension": ".py",
   "mimetype": "text/x-python",
   "name": "python",
   "nbconvert_exporter": "python",
   "pygments_lexer": "ipython3",
   "version": "3.9.12"
  }
 },
 "nbformat": 4,
 "nbformat_minor": 5
}
